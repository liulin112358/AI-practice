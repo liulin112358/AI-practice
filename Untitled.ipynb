{
 "cells": [
  {
   "cell_type": "code",
   "execution_count": 1,
   "metadata": {},
   "outputs": [
    {
     "name": "stdout",
     "output_type": "stream",
     "text": [
      "hdf5 is not supported on this machine (please install/reinstall h5py for optimal experience)\n",
      "curses is not supported on this machine (please install/reinstall curses for an optimal experience)\n",
      "Scipy not supported!\n"
     ]
    }
   ],
   "source": [
    "import tflearn\n",
    "from tflearn.layers.core import input_data,fully_connected\n",
    "from tflearn.layers.conv import conv_2d,max_pool_2d\n",
    "from tflearn.layers.estimator import regression\n",
    "import tflearn.datasets.mnist as mnist"
   ]
  },
  {
   "cell_type": "code",
   "execution_count": 2,
   "metadata": {},
   "outputs": [
    {
     "ename": "SyntaxError",
     "evalue": "invalid syntax (<ipython-input-2-16369707bc59>, line 13)",
     "output_type": "error",
     "traceback": [
      "\u001b[1;36m  File \u001b[1;32m\"<ipython-input-2-16369707bc59>\"\u001b[1;36m, line \u001b[1;32m13\u001b[0m\n\u001b[1;33m    model.fit=(trainX,trainY,n_epoch=20,validation_set=([testX,testY]),show_metric=True)\u001b[0m\n\u001b[1;37m                                    ^\u001b[0m\n\u001b[1;31mSyntaxError\u001b[0m\u001b[1;31m:\u001b[0m invalid syntax\n"
     ]
    }
   ],
   "source": [
    "trainX,trainY,testX,testY=mnist.load_data(data_dir=\"MNIST_data\",one_hot=True)\n",
    "trainX=trainX.reshape([-1,28,28,1])\n",
    "testX=testX.reshape([-1,28,28,1])\n",
    "net=input_data(shape=[None,28,28,1],name='input')\n",
    "net=conv_2d(net,32,5,activation='relu')\n",
    "net=max_pool(net,2)\n",
    "net=conv_2d(net,64,5,activation='relu')\n",
    "net=max_pool(net,2)\n",
    "net=fully_connected(net,500,activation='relu')\n",
    "net=fully_connected(net,10,activation='softmax')\n",
    "net=regression(net,optimizer='sgd',learning_rate=0.01,loss='categorical_crossentropy')\n",
    "model=tflearn.DNN(net,tensorboard_verbose=0)\n",
    "model.fit=(trainX,trainY,n_epoch=20,validation_set=([testX,testY]),show_metric=True)"
   ]
  },
  {
   "cell_type": "code",
   "execution_count": null,
   "metadata": {},
   "outputs": [],
   "source": []
  }
 ],
 "metadata": {
  "kernelspec": {
   "display_name": "Python 3",
   "language": "python",
   "name": "python3"
  },
  "language_info": {
   "codemirror_mode": {
    "name": "ipython",
    "version": 3
   },
   "file_extension": ".py",
   "mimetype": "text/x-python",
   "name": "python",
   "nbconvert_exporter": "python",
   "pygments_lexer": "ipython3",
   "version": "3.6.8"
  }
 },
 "nbformat": 4,
 "nbformat_minor": 2
}

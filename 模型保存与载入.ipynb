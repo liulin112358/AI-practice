{
 "cells": [
  {
   "cell_type": "code",
   "execution_count": 1,
   "metadata": {},
   "outputs": [],
   "source": [
    "import tensorflow as tf\n",
    "from tensorflow.examples.tutorials.mnist import input_data"
   ]
  },
  {
   "cell_type": "code",
   "execution_count": 3,
   "metadata": {},
   "outputs": [
    {
     "name": "stdout",
     "output_type": "stream",
     "text": [
      "Extracting MNIST_data\\train-images-idx3-ubyte.gz\n",
      "Extracting MNIST_data\\train-labels-idx1-ubyte.gz\n",
      "Extracting MNIST_data\\t10k-images-idx3-ubyte.gz\n",
      "Extracting MNIST_data\\t10k-labels-idx1-ubyte.gz\n",
      "Iter 0,Testing accuracy 0.9062\n",
      "Iter 1,Testing accuracy 0.9149\n",
      "Iter 2,Testing accuracy 0.9191\n",
      "Iter 3,Testing accuracy 0.9187\n",
      "Iter 4,Testing accuracy 0.921\n",
      "Iter 5,Testing accuracy 0.9227\n",
      "Iter 6,Testing accuracy 0.9223\n",
      "Iter 7,Testing accuracy 0.9217\n",
      "Iter 8,Testing accuracy 0.9253\n",
      "Iter 9,Testing accuracy 0.9245\n",
      "Iter 10,Testing accuracy 0.9254\n",
      "Iter 11,Testing accuracy 0.9266\n",
      "Iter 12,Testing accuracy 0.9275\n",
      "Iter 13,Testing accuracy 0.9276\n",
      "Iter 14,Testing accuracy 0.9266\n",
      "Iter 15,Testing accuracy 0.9273\n",
      "Iter 16,Testing accuracy 0.9283\n",
      "Iter 17,Testing accuracy 0.9271\n",
      "Iter 18,Testing accuracy 0.9276\n",
      "Iter 19,Testing accuracy 0.9286\n",
      "Iter 20,Testing accuracy 0.9286\n"
     ]
    }
   ],
   "source": [
    "#网络一\n",
    "#载入数据集\n",
    "mnist=input_data.read_data_sets(\"MNIST_data\",one_hot=True)\n",
    "#每个批次大小\n",
    "batch_size=200\n",
    "\n",
    "n_batch=mnist.train.num_examples//batch_size\n",
    "\n",
    "x=tf.placeholder(tf.float32,[None,784])\n",
    "y=tf.placeholder(tf.float32,[None,10])\n",
    "\n",
    "#创建一个简单的神经网络\n",
    "W=tf.Variable(tf.zeros([784,10]))\n",
    "b=tf.Variable(tf.zeros([10]))\n",
    "prediction=tf.nn.softmax(tf.matmul(x,W)+b)\n",
    "\n",
    "\n",
    "#二次代价函数\n",
    "loss=tf.reduce_mean(tf.nn.softmax_cross_entropy_with_logits(labels=y,logits=prediction))\n",
    "\n",
    "\n",
    "\n",
    "#使用梯度下降法\n",
    "train_step=tf.train.MomentumOptimizer(0.2,0.9).minimize(loss)\n",
    "\n",
    "#结果存放在一个bool型列表中\n",
    "correct_prediction=tf.equal(tf.arg_max(y,1),tf.arg_max(prediction,1))#argmax返回一维张量中最大值所在位置\n",
    "#求准确率\n",
    "accuracy=tf.reduce_mean(tf.cast(correct_prediction,tf.float32))\n",
    "\n",
    "saver=tf.train.Saver()\n",
    "with tf.Session() as sess:\n",
    "    sess.run(tf.global_variables_initializer())\n",
    "    for epoch in range(21):\n",
    "        for batch in range(n_batch):\n",
    "            batch_xs,batch_ys=mnist.train.next_batch(batch_size)\n",
    "            sess.run(train_step,feed_dict={x:batch_xs,y:batch_ys})\n",
    "        acc=sess.run(accuracy,feed_dict={x:mnist.test.images,y:mnist.test.labels})\n",
    "        print(\"Iter \"+str(epoch)+\",Testing accuracy \"+str(acc))\n",
    "    #模型保存\n",
    "    saver.save(sess,'net/my_first_net.ckpt')"
   ]
  },
  {
   "cell_type": "code",
   "execution_count": 4,
   "metadata": {},
   "outputs": [
    {
     "name": "stdout",
     "output_type": "stream",
     "text": [
      "0.098\n",
      "INFO:tensorflow:Restoring parameters from net/my_first_net.ckpt\n",
      "0.9286\n"
     ]
    }
   ],
   "source": [
    "#模型载入\n",
    "saver=tf.train.Saver()\n",
    "with tf.Session() as sess:\n",
    "    sess.run(tf.global_variables_initializer())\n",
    "    print(sess.run(accuracy,feed_dict={x:mnist.test.images,y:mnist.test.labels}))\n",
    "    saver.restore(sess,'net/my_first_net.ckpt')\n",
    "    print(sess.run(accuracy,feed_dict={x:mnist.test.images,y:mnist.test.labels}))"
   ]
  },
  {
   "cell_type": "code",
   "execution_count": null,
   "metadata": {},
   "outputs": [],
   "source": []
  }
 ],
 "metadata": {
  "kernelspec": {
   "display_name": "Python 3",
   "language": "python",
   "name": "python3"
  },
  "language_info": {
   "codemirror_mode": {
    "name": "ipython",
    "version": 3
   },
   "file_extension": ".py",
   "mimetype": "text/x-python",
   "name": "python",
   "nbconvert_exporter": "python",
   "pygments_lexer": "ipython3",
   "version": "3.6.8"
  }
 },
 "nbformat": 4,
 "nbformat_minor": 2
}
